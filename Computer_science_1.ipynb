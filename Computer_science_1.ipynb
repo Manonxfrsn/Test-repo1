{
  "nbformat": 4,
  "nbformat_minor": 0,
  "metadata": {
    "colab": {
      "provenance": []
    },
    "kernelspec": {
      "name": "python3",
      "display_name": "Python 3"
    },
    "language_info": {
      "name": "python"
    }
  },
  "cells": [
    {
      "cell_type": "code",
      "execution_count": null,
      "metadata": {
        "colab": {
          "base_uri": "https://localhost:8080/"
        },
        "id": "muBUmcOM0Mlh",
        "outputId": "10ea9400-4eec-4d10-d03e-330d00604dba"
      },
      "outputs": [
        {
          "output_type": "stream",
          "name": "stdout",
          "text": [
            "enter a number: 3\n",
            "enter a number: 7\n",
            "0.42857142857142855\n"
          ]
        }
      ],
      "source": [
        "x = int(input(\"enter a number: \"))\n",
        "y = int(input(\"enter a number: \"))\n",
        "print (x/y)"
      ]
    },
    {
      "cell_type": "code",
      "source": [
        "x = int(input(\"enter an integer nmber: \"))\n",
        "y = int(input(\"enter an interger number: \"))\n",
        "\n",
        "if x>y:\n",
        "  print(x)\n",
        "else:\n",
        "  print(y)"
      ],
      "metadata": {
        "colab": {
          "base_uri": "https://localhost:8080/"
        },
        "id": "9szjCaaF9IiS",
        "outputId": "fcbae0ab-d77a-4ca0-aafb-e356e1e723c9"
      },
      "execution_count": null,
      "outputs": [
        {
          "output_type": "stream",
          "name": "stdout",
          "text": [
            "enter an integer nmber: 5\n",
            "enter an interger number: 8\n",
            "8\n"
          ]
        }
      ]
    },
    {
      "cell_type": "code",
      "source": [
        "x = float(input(\"enter your grade: \"))\n",
        "\n",
        "if x<10 and x>=0:\n",
        "  print(\"fail\")\n",
        "elif x>=10 and x<15:\n",
        "  print(\"pass\")\n",
        "elif x>=15 and x<=20:\n",
        "  print(\"dist\")\n",
        "else:\n",
        "  print(\"error\")"
      ],
      "metadata": {
        "id": "y8DC1Hss6b1q",
        "colab": {
          "base_uri": "https://localhost:8080/"
        },
        "outputId": "8f0a5c3e-1607-4c02-ce08-95ed1be996d2"
      },
      "execution_count": null,
      "outputs": [
        {
          "output_type": "stream",
          "name": "stdout",
          "text": [
            "enter your grade: 20\n",
            "dist\n"
          ]
        }
      ]
    }
  ]
}